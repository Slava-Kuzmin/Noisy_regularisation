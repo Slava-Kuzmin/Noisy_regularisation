{
 "cells": [
  {
   "cell_type": "code",
   "execution_count": null,
   "id": "931c4699",
   "metadata": {},
   "outputs": [
    {
     "name": "stdout",
     "output_type": "stream",
     "text": [
      "1116037:C 04 Jul 2025 10:36:50.398 # oO0OoO0OoO0Oo Redis is starting oO0OoO0OoO0Oo\n",
      "1116037:C 04 Jul 2025 10:36:50.398 # Redis version=6.0.16, bits=64, commit=00000000, modified=0, pid=1116037, just started\n",
      "1116037:C 04 Jul 2025 10:36:50.398 # Configuration loaded\n",
      "                _._                                                  \n",
      "           _.-``__ ''-._                                             \n",
      "      _.-``    `.  `_.  ''-._           Redis 6.0.16 (00000000/0) 64 bit\n",
      "  .-`` .-```.  ```\\/    _.,_ ''-._                                   \n",
      " (    '      ,       .-`  | `,    )     Running in standalone mode\n",
      " |`-._`-...-` __...-.``-._|'` _.-'|     Port: 6379\n",
      " |    `-._   `._    /     _.-'    |     PID: 1116037\n",
      "  `-._    `-._  `-./  _.-'    _.-'                                   \n",
      " |`-._`-._    `-.__.-'    _.-'_.-'|                                  \n",
      " |    `-._`-._        _.-'_.-'    |           http://redis.io        \n",
      "  `-._    `-._`-.__.-'_.-'    _.-'                                   \n",
      " |`-._`-._    `-.__.-'    _.-'_.-'|                                  \n",
      " |    `-._`-._        _.-'_.-'    |                                  \n",
      "  `-._    `-._`-.__.-'_.-'    _.-'                                   \n",
      "      `-._    `-.__.-'    _.-'                                       \n",
      "          `-._        _.-'                                           \n",
      "              `-.__.-'                                               \n",
      "\n",
      "1116037:M 04 Jul 2025 10:36:50.399 # WARNING: The TCP backlog setting of 511 cannot be enforced because /proc/sys/net/core/somaxconn is set to the lower value of 128.\n",
      "1116037:M 04 Jul 2025 10:36:50.399 # Server initialized\n",
      "1116037:M 04 Jul 2025 10:36:50.399 # WARNING overcommit_memory is set to 0! Background save may fail under low memory condition. To fix this issue add 'vm.overcommit_memory = 1' to /etc/sysctl.conf and then reboot or run the command 'sysctl vm.overcommit_memory=1' for this to take effect.\n",
      "1116037:M 04 Jul 2025 10:36:50.399 # WARNING you have Transparent Huge Pages (THP) support enabled in your kernel. This will create latency and memory usage issues with Redis. To fix this issue run the command 'echo madvise > /sys/kernel/mm/transparent_hugepage/enabled' as root, and add it to your /etc/rc.local in order to retain the setting after a reboot. Redis must be restarted after THP is disabled (set to 'madvise' or 'never').\n",
      "1116037:M 04 Jul 2025 10:36:50.415 * Ready to accept connections\n",
      "1116037:M 04 Jul 2025 11:18:42.241 # Client id=44 addr=127.0.0.1:43730 fd=37 name= age=2289 idle=60 flags=P db=0 sub=100 psub=0 multi=-1 qbuf=0 qbuf-free=0 argv-mem=0 obl=0 oll=41 omem=34079704 tot-mem=34100208 events=rw cmd=unsubscribe user=default scheduled to be closed ASAP for overcoming of output buffer limits.\n",
      "1116037:M 04 Jul 2025 11:55:50.765 # Client id=341 addr=127.0.0.1:56938 fd=37 name= age=1420 idle=56 flags=P db=0 sub=100 psub=0 multi=-1 qbuf=0 qbuf-free=0 argv-mem=0 obl=0 oll=41 omem=34079704 tot-mem=34100208 events=rw cmd=subscribe user=default scheduled to be closed ASAP for overcoming of output buffer limits.\n",
      "1116037:M 04 Jul 2025 13:42:52.007 # Client id=457 addr=127.0.0.1:60732 fd=17 name= age=1813 idle=70 flags=P db=0 sub=100 psub=0 multi=-1 qbuf=0 qbuf-free=0 argv-mem=0 obl=0 oll=41 omem=34079704 tot-mem=34100208 events=rw cmd=subscribe user=default scheduled to be closed ASAP for overcoming of output buffer limits.\n",
      "1116037:M 04 Jul 2025 16:09:26.522 # Client id=529 addr=127.0.0.1:58264 fd=7 name= age=1577 idle=42 flags=P db=0 sub=100 psub=0 multi=-1 qbuf=0 qbuf-free=0 argv-mem=0 obl=0 oll=41 omem=34210776 tot-mem=34231280 events=rw cmd=unsubscribe user=default scheduled to be closed ASAP for overcoming of output buffer limits.\n",
      "1116037:M 04 Jul 2025 17:34:45.955 # Client id=725 addr=127.0.0.1:38126 fd=37 name= age=1426 idle=47 flags=P db=0 sub=100 psub=0 multi=-1 qbuf=0 qbuf-free=0 argv-mem=0 obl=0 oll=41 omem=34079704 tot-mem=34100208 events=rw cmd=subscribe user=default scheduled to be closed ASAP for overcoming of output buffer limits.\n",
      "1116037:M 04 Jul 2025 18:25:24.451 # Client id=828 addr=127.0.0.1:49730 fd=139 name= age=1406 idle=19 flags=P db=0 sub=100 psub=0 multi=-1 qbuf=0 qbuf-free=0 argv-mem=0 obl=0 oll=41 omem=34079704 tot-mem=34100208 events=rw cmd=unsubscribe user=default scheduled to be closed ASAP for overcoming of output buffer limits.\n",
      "1116037:M 07 Jul 2025 13:52:44.091 # Client id=835 addr=127.0.0.1:54218 fd=38 name= age=1416 idle=83 flags=P db=0 sub=110 psub=0 multi=-1 qbuf=0 qbuf-free=0 argv-mem=0 obl=0 oll=33 omem=27525912 tot-mem=27546416 events=rw cmd=subscribe user=default scheduled to be closed ASAP for overcoming of output buffer limits.\n",
      "1116037:M 07 Jul 2025 15:16:42.218 # Client id=875 addr=127.0.0.1:53810 fd=37 name= age=1497 idle=24 flags=P db=0 sub=110 psub=0 multi=-1 qbuf=0 qbuf-free=0 argv-mem=0 obl=0 oll=41 omem=34079704 tot-mem=34100208 events=rw cmd=subscribe user=default scheduled to be closed ASAP for overcoming of output buffer limits.\n",
      "1116037:M 07 Jul 2025 16:08:12.355 # Client id=1013 addr=127.0.0.1:57418 fd=38 name= age=1446 idle=53 flags=P db=0 sub=110 psub=0 multi=-1 qbuf=0 qbuf-free=0 argv-mem=0 obl=0 oll=41 omem=34079704 tot-mem=34100208 events=rw cmd=subscribe user=default scheduled to be closed ASAP for overcoming of output buffer limits.\n",
      "1116037:M 07 Jul 2025 19:01:55.691 # Client id=1092 addr=127.0.0.1:53582 fd=7 name= age=1697 idle=75 flags=P db=0 sub=110 psub=0 multi=-1 qbuf=0 qbuf-free=0 argv-mem=0 obl=0 oll=30 omem=25035472 tot-mem=25055976 events=rw cmd=unsubscribe user=default scheduled to be closed ASAP for overcoming of output buffer limits.\n",
      "1116037:M 07 Jul 2025 20:31:53.806 # Client id=1119 addr=127.0.0.1:35730 fd=7 name= age=1666 idle=55 flags=P db=0 sub=110 psub=0 multi=-1 qbuf=0 qbuf-free=0 argv-mem=0 obl=0 oll=41 omem=34079704 tot-mem=34100208 events=rw cmd=subscribe user=default scheduled to be closed ASAP for overcoming of output buffer limits.\n",
      "1116037:M 07 Jul 2025 23:28:21.101 # Client id=1170 addr=127.0.0.1:47568 fd=67 name= age=4997 idle=96 flags=P db=0 sub=110 psub=0 multi=-1 qbuf=0 qbuf-free=0 argv-mem=0 obl=0 oll=16 omem=13369728 tot-mem=13390232 events=rw cmd=unsubscribe user=default scheduled to be closed ASAP for overcoming of output buffer limits.\n",
      "1116037:M 08 Jul 2025 11:56:26.441 # Client id=1171 addr=127.0.0.1:38616 fd=67 name= age=3863 idle=66 flags=P db=0 sub=40 psub=0 multi=-1 qbuf=0 qbuf-free=0 argv-mem=0 obl=0 oll=21 omem=34865656 tot-mem=34886160 events=rw cmd=unsubscribe user=default scheduled to be closed ASAP for overcoming of output buffer limits.\n",
      "1116037:M 08 Jul 2025 14:28:36.750 # Client id=1173 addr=127.0.0.1:54208 fd=67 name= age=3390 idle=117 flags=P db=0 sub=30 psub=0 multi=-1 qbuf=0 qbuf-free=0 argv-mem=0 obl=0 oll=13 omem=32506168 tot-mem=32526672 events=rw cmd=unsubscribe user=default scheduled to be closed ASAP for overcoming of output buffer limits.\n",
      "1116037:M 08 Jul 2025 16:38:51.856 # Client id=1174 addr=127.0.0.1:50722 fd=67 name= age=4950 idle=91 flags=P db=0 sub=30 psub=0 multi=-1 qbuf=0 qbuf-free=0 argv-mem=0 obl=0 oll=7 omem=29360296 tot-mem=29380800 events=rw cmd=unsubscribe user=default scheduled to be closed ASAP for overcoming of output buffer limits.\n"
     ]
    }
   ],
   "source": [
    "!redis-server --protected-mode no --bind 0.0.0.0"
   ]
  }
 ],
 "metadata": {
  "kernelspec": {
   "display_name": "Python 3 (ipykernel)",
   "language": "python",
   "name": "python3"
  },
  "language_info": {
   "codemirror_mode": {
    "name": "ipython",
    "version": 3
   },
   "file_extension": ".py",
   "mimetype": "text/x-python",
   "name": "python",
   "nbconvert_exporter": "python",
   "pygments_lexer": "ipython3",
   "version": "3.10.12"
  }
 },
 "nbformat": 4,
 "nbformat_minor": 5
}
