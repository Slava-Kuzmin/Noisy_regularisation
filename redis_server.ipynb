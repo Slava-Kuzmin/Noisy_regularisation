{
 "cells": [
  {
   "cell_type": "code",
   "execution_count": null,
   "id": "931c4699",
   "metadata": {},
   "outputs": [
    {
     "name": "stdout",
     "output_type": "stream",
     "text": [
      "3111471:C 02 Jul 2025 18:48:59.144 # oO0OoO0OoO0Oo Redis is starting oO0OoO0OoO0Oo\r\n",
      "3111471:C 02 Jul 2025 18:48:59.144 # Redis version=6.0.16, bits=64, commit=00000000, modified=0, pid=3111471, just started\r\n",
      "3111471:C 02 Jul 2025 18:48:59.144 # Configuration loaded\r\n",
      "                _._                                                  \r\n",
      "           _.-``__ ''-._                                             \r\n",
      "      _.-``    `.  `_.  ''-._           Redis 6.0.16 (00000000/0) 64 bit\r\n",
      "  .-`` .-```.  ```\\/    _.,_ ''-._                                   \r\n",
      " (    '      ,       .-`  | `,    )     Running in standalone mode\r\n",
      " |`-._`-...-` __...-.``-._|'` _.-'|     Port: 6379\r\n",
      " |    `-._   `._    /     _.-'    |     PID: 3111471\r\n",
      "  `-._    `-._  `-./  _.-'    _.-'                                   \r\n",
      " |`-._`-._    `-.__.-'    _.-'_.-'|                                  \r\n",
      " |    `-._`-._        _.-'_.-'    |           http://redis.io        \r\n",
      "  `-._    `-._`-.__.-'_.-'    _.-'                                   \r\n",
      " |`-._`-._    `-.__.-'    _.-'_.-'|                                  \r\n",
      " |    `-._`-._        _.-'_.-'    |                                  \r\n",
      "  `-._    `-._`-.__.-'_.-'    _.-'                                   \r\n",
      "      `-._    `-.__.-'    _.-'                                       \r\n",
      "          `-._        _.-'                                           \r\n",
      "              `-.__.-'                                               \r\n",
      "\r\n",
      "3111471:M 02 Jul 2025 18:48:59.145 # WARNING: The TCP backlog setting of 511 cannot be enforced because /proc/sys/net/core/somaxconn is set to the lower value of 128.\r\n",
      "3111471:M 02 Jul 2025 18:48:59.145 # Server initialized\r\n",
      "3111471:M 02 Jul 2025 18:48:59.145 # WARNING overcommit_memory is set to 0! Background save may fail under low memory condition. To fix this issue add 'vm.overcommit_memory = 1' to /etc/sysctl.conf and then reboot or run the command 'sysctl vm.overcommit_memory=1' for this to take effect.\r\n",
      "3111471:M 02 Jul 2025 18:48:59.145 # WARNING you have Transparent Huge Pages (THP) support enabled in your kernel. This will create latency and memory usage issues with Redis. To fix this issue run the command 'echo madvise > /sys/kernel/mm/transparent_hugepage/enabled' as root, and add it to your /etc/rc.local in order to retain the setting after a reboot. Redis must be restarted after THP is disabled (set to 'madvise' or 'never').\r\n",
      "3111471:M 02 Jul 2025 18:48:59.161 * Ready to accept connections\r\n"
     ]
    }
   ],
   "source": [
    "!redis-server --protected-mode no --bind 0.0.0.0"
   ]
  },
  {
   "cell_type": "code",
   "execution_count": null,
   "id": "afeffa90",
   "metadata": {},
   "outputs": [],
   "source": []
  }
 ],
 "metadata": {
  "kernelspec": {
   "display_name": "Python 3 (ipykernel)",
   "language": "python",
   "name": "python3"
  },
  "language_info": {
   "codemirror_mode": {
    "name": "ipython",
    "version": 3
   },
   "file_extension": ".py",
   "mimetype": "text/x-python",
   "name": "python",
   "nbconvert_exporter": "python",
   "pygments_lexer": "ipython3",
   "version": "3.10.12"
  }
 },
 "nbformat": 4,
 "nbformat_minor": 5
}
