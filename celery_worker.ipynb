{
 "cells": [
  {
   "cell_type": "code",
   "execution_count": null,
   "id": "f1d6ccff",
   "metadata": {},
   "outputs": [],
   "source": [
    "# run\n",
    "# !ip -br -4 addr | grep -v 127.0.0.1\n",
    "# and use the adress, e.g., 172.17.0.2 to connect workers to server"
   ]
  },
  {
   "cell_type": "code",
   "execution_count": 5,
   "id": "25039f9a",
   "metadata": {},
   "outputs": [
    {
     "name": "stdout",
     "output_type": "stream",
     "text": [
      "2025-07-04 10:02:07,751 [INFO] tensorflow is not installed, and sparse Hamiltonian generation utilities are disabled\n",
      "2025-07-04 10:02:08,095 [WARNING] Please first ``pip install -U qiskit`` to enable related functionality in translation module\n",
      "2025-07-04 10:02:08,095 [WARNING] Please first ``pip install -U cirq`` to enable related functionality in translation module\n",
      "/usr/local/lib/python3.10/dist-packages/celery/platforms.py:841: SecurityWarning: You're running the worker with superuser privileges: this is\n",
      "absolutely not recommended!\n",
      "\n",
      "Please specify a different user using the --uid option.\n",
      "\n",
      "User information: uid=0 euid=0 gid=0 egid=0\n",
      "\n",
      "  warnings.warn(SecurityWarning(ROOT_DISCOURAGED.format(\n",
      "\u001b[1;36m \n",
      " -------------- celery@91de2d820aa3 v5.5.0 (immunity)\n",
      "--- ***** ----- \n",
      "-- ******* ---- Linux-4.18.0-372.13.1.0.1.el8_6.x86_64-x86_64-with-glibc2.35 2025-07-04 10:02:10\n",
      "- *** --- * --- \n",
      "- ** ---------- [config]\n",
      "- ** ---------- .> app:         experiments_run:0x7f3c15aa3d60\n",
      "- ** ---------- .> transport:   redis://172.17.0.2:6379/0\n",
      "- ** ---------- .> results:     redis://172.17.0.2:6379/0\n",
      "- *** --- * --- .> concurrency: 48 (prefork)\n",
      "-- ******* ---- .> task events: OFF (enable -E to monitor tasks in this worker)\n",
      "--- ***** ----- \n",
      " -------------- [queues]\n",
      "                .> celery           exchange=celery(direct) key=celery\n",
      "                \n",
      "\u001b[0m\u001b[0m\n",
      "[tasks]\n",
      "  . experiments_run.run_experiment_task\n",
      "\u001b[0m\n",
      "[2025-07-04 10:02:27,145: INFO/MainProcess] Connected to redis://172.17.0.2:6379/0\n",
      "[2025-07-04 10:02:27,148: INFO/MainProcess] mingle: searching for neighbors\n",
      "[2025-07-04 10:02:28,155: INFO/MainProcess] mingle: all alone\n",
      "[2025-07-04 10:02:28,172: INFO/MainProcess] celery@91de2d820aa3 ready.\n",
      "^C\n",
      "\n",
      "worker: Hitting Ctrl+C again will initiate cold shutdown, terminating all running tasks!\n",
      "\n",
      "worker: Warm shutdown (MainProcess)\n"
     ]
    }
   ],
   "source": [
    "!celery -A experiments_run -b redis://172.17.0.2:6379/0 --result-backend redis://172.17.0.2:6379/0 worker --loglevel=info --concurrency=48"
   ]
  }
 ],
 "metadata": {
  "kernelspec": {
   "display_name": "Python 3 (ipykernel)",
   "language": "python",
   "name": "python3"
  },
  "language_info": {
   "codemirror_mode": {
    "name": "ipython",
    "version": 3
   },
   "file_extension": ".py",
   "mimetype": "text/x-python",
   "name": "python",
   "nbconvert_exporter": "python",
   "pygments_lexer": "ipython3",
   "version": "3.10.12"
  }
 },
 "nbformat": 4,
 "nbformat_minor": 5
}
